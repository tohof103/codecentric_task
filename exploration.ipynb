{
 "cells": [
  {
   "cell_type": "markdown",
   "metadata": {},
   "source": [
    "# Exploration Notebook\n",
    "\n",
    "Only for exploration purposes. Please use Python scripts for actual usage."
   ]
  },
  {
   "cell_type": "code",
   "execution_count": null,
   "metadata": {},
   "outputs": [],
   "source": [
    "import requests\n",
    "import sqlite3\n",
    "import os\n",
    "from dotenv import load_dotenv"
   ]
  },
  {
   "cell_type": "code",
   "execution_count": 2,
   "metadata": {},
   "outputs": [],
   "source": [
    "con = sqlite3.connect(\"codecentric_repo.db\")\n",
    "cur = con.cursor()"
   ]
  },
  {
   "cell_type": "code",
   "execution_count": null,
   "metadata": {},
   "outputs": [],
   "source": [
    "cur.execute(\n",
    "    \"\"\"\n",
    "    CREATE TABLE IF NOT EXISTS person(\n",
    "        login TEXT PRIMARY KEY,\n",
    "        real_name TEXT\n",
    "    )\n",
    "    \"\"\"\n",
    ")\n",
    "cur.execute(\n",
    "    \"\"\"\n",
    "    CREATE TABLE IF NOT EXISTS repo(\n",
    "        full_name TEXT PRIMARY KEY,\n",
    "        language TEXT\n",
    "    )\n",
    "    \"\"\"\n",
    ")\n",
    "cur.execute(\n",
    "    \"\"\"\n",
    "    CREATE TABLE IF NOT EXISTS person_repo(\n",
    "        login TEXT,\n",
    "        full_name TEXT,\n",
    "        FOREIGN KEY(login) REFERENCES person(login),\n",
    "        FOREIGN KEY(full_name) REFERENCES repo(full_name)\n",
    "    )\n",
    "    \"\"\"\n",
    ")"
   ]
  },
  {
   "cell_type": "code",
   "execution_count": 4,
   "metadata": {},
   "outputs": [],
   "source": [
    "load_dotenv()\n",
    "\n",
    "token = os.getenv(\"GITHUB_TOKEN\")"
   ]
  },
  {
   "cell_type": "code",
   "execution_count": 5,
   "metadata": {},
   "outputs": [],
   "source": [
    "headers = {\"Authorization\": f\"token {token}\"}"
   ]
  },
  {
   "cell_type": "code",
   "execution_count": null,
   "metadata": {},
   "outputs": [],
   "source": [
    "members = requests.get(\n",
    "    \"https://api.github.com/orgs/codecentric/members\", headers=headers\n",
    ").json()\n",
    "\n",
    "for person in members:\n",
    "    name = requests.get(\n",
    "        f\"https://api.github.com/users/{person['login']}\", headers=headers\n",
    "    ).json()[\"name\"]\n",
    "    user_repos = requests.get(\n",
    "        f\"https://api.github.com/users/{person['login']}/repos\", headers=headers\n",
    "    ).json()\n",
    "\n",
    "    print(f\"Add person to db: {person['login']}, {name}\")\n",
    "    cur.execute(\"INSERT OR IGNORE INTO person VALUES (?, ?)\", (person[\"login\"], name))\n",
    "\n",
    "    for r in user_repos:\n",
    "        repo_name = r[\"full_name\"]\n",
    "        language = r[\"language\"]\n",
    "        print(f\"Add repo to db: {repo_name}, {language}\")\n",
    "        cur.execute(\"INSERT OR IGNORE INTO repo VALUES (?, ?)\", (repo_name, language))\n",
    "        print(f\"Add person-repo to db: {person['login']}, {repo_name}\")\n",
    "        cur.execute(\n",
    "            \"INSERT OR IGNORE INTO person_repo VALUES (?, ?)\",\n",
    "            (person[\"login\"], repo_name),\n",
    "        )\n",
    "        break\n",
    "    break\n",
    "\n",
    "con.commit()"
   ]
  },
  {
   "cell_type": "code",
   "execution_count": null,
   "metadata": {},
   "outputs": [],
   "source": [
    "members = requests.get(\n",
    "    \"https://api.github.com/orgs/codecentric/members\", headers=headers\n",
    ").json()\n",
    "codecentric_logins = [person[\"login\"] for person in members]\n",
    "\n",
    "repos = requests.get(\n",
    "    \"https://api.github.com/orgs/codecentric/repos\", headers=headers\n",
    ").json()\n",
    "\n",
    "for repo in repos:\n",
    "    contributors = requests.get(\n",
    "        f\"https://api.github.com/repos/{repo['full_name']}/contributors\",\n",
    "        headers=headers,\n",
    "    ).json()\n",
    "\n",
    "    codecentric_contributed = False\n",
    "\n",
    "    for contributor in contributors:\n",
    "        if contributor[\"login\"] in codecentric_logins:\n",
    "            name = requests.get(\n",
    "                f\"https://api.github.com/users/{contributor['login']}\", headers=headers\n",
    "            ).json()[\"name\"]\n",
    "            print(f\"Add person to db: {contributor['login']}\")\n",
    "            cur.execute(\n",
    "                \"INSERT OR IGNORE INTO person VALUES (?, ?)\",\n",
    "                (contributor[\"login\"], name),\n",
    "            )\n",
    "\n",
    "            print(f\"Add person-repo to db: {contributor['login']}, {repo['full_name']}\")\n",
    "            cur.execute(\n",
    "                \"INSERT OR IGNORE INTO person_repo VALUES (?, ?)\",\n",
    "                (contributor[\"login\"], repo[\"full_name\"]),\n",
    "            )\n",
    "            codecentric_contributed = True\n",
    "            break\n",
    "\n",
    "    if codecentric_contributed:\n",
    "        print(f\"Add repo to db: {repo['full_name']}, {repo['language']}\")\n",
    "        cur.execute(\n",
    "            \"INSERT OR IGNORE INTO repo VALUES (?, ?)\",\n",
    "            (repo[\"full_name\"], repo[\"language\"]),\n",
    "        )\n",
    "        break\n",
    "\n",
    "con.commit()"
   ]
  },
  {
   "cell_type": "code",
   "execution_count": null,
   "metadata": {},
   "outputs": [],
   "source": [
    "cursor = cur.execute(\n",
    "    \"\"\"\n",
    "    SELECT real_name, repo.full_name, language\n",
    "    FROM person_repo\n",
    "    JOIN person ON person_repo.login = person.login\n",
    "    JOIN repo ON person_repo.full_name = repo.full_name\n",
    "    WHERE language = 'Scala'\n",
    "    \"\"\"\n",
    ")\n",
    "\n",
    "for row in cursor.fetchall():\n",
    "    print(f\"Person: {row[0]}, Repo: {row[1]}, Language: {row[2]} {row}\")"
   ]
  },
  {
   "cell_type": "code",
   "execution_count": 8,
   "metadata": {},
   "outputs": [],
   "source": [
    "con.close()"
   ]
  }
 ],
 "metadata": {
  "kernelspec": {
   "display_name": "codecentric",
   "language": "python",
   "name": "python3"
  },
  "language_info": {
   "codemirror_mode": {
    "name": "ipython",
    "version": 3
   },
   "file_extension": ".py",
   "mimetype": "text/x-python",
   "name": "python",
   "nbconvert_exporter": "python",
   "pygments_lexer": "ipython3",
   "version": "3.12.3"
  }
 },
 "nbformat": 4,
 "nbformat_minor": 2
}
